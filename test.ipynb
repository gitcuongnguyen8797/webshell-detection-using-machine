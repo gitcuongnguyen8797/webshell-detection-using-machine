{
 "cells": [
  {
   "cell_type": "code",
   "execution_count": 2,
   "metadata": {},
   "outputs": [],
   "source": [
    "import os\n",
    "import pandas as pd\n",
    "import numpy as np\n",
    "\n",
    "dataset_dir = os.path.curdir +  '/dataset/c/dataset_2_without_entropy.csv'\n",
    "df = pd.read_csv(dataset_dir, index_col='class')\n"
   ]
  },
  {
   "cell_type": "code",
   "execution_count": 6,
   "metadata": {},
   "outputs": [],
   "source": [
    "\n",
    "for i in [26,27,28,29,30]:\n",
    "  count_colums = df[df > 0].count(axis=0)\n",
    "  columns = [col for col in dict(count_colums) if count_colums[col] > i]\n",
    "  new_df = df[columns]\n",
    "  new_df.to_csv(os.path.curdir + '/dataset/c/c_dataset_'+str(i)+'.csv')"
   ]
  },
  {
   "cell_type": "markdown",
   "metadata": {},
   "source": [
    "#### Convert to TF_IDF"
   ]
  },
  {
   "cell_type": "code",
   "execution_count": 7,
   "metadata": {},
   "outputs": [
    {
     "name": "stderr",
     "output_type": "stream",
     "text": [
      "C:\\Users\\cuongwork\\AppData\\Local\\Temp\\ipykernel_9032\\2068717118.py:21: RuntimeWarning: invalid value encountered in scalar divide\n",
      "  tf = X.values[row][col]/total\n"
     ]
    }
   ],
   "source": [
    "import numpy as np\n",
    "\n",
    "for index in [20]:\n",
    "  df = pd.read_csv(os.path.curdir + '/dataset/c/c_dataset_'+str(index)+'.csv', index_col=\"class\")\n",
    "  index_cols = df.index\n",
    "  X = df\n",
    "  Y = X[X != 0].count()\n",
    "  total_each_row = X.sum(axis=1)\n",
    "  total_each_col = []\n",
    "\n",
    "  total_each_row\n",
    "\n",
    "  for i in Y:\n",
    "      total_each_col.append(i)\n",
    "\n",
    "  results = []\n",
    "  all_sample = 1000\n",
    "  for row,total in enumerate(total_each_row):\n",
    "    row_results = []\n",
    "    for col,val in enumerate(total_each_col):\n",
    "      tf = X.values[row][col]/total\n",
    "      idf = np.log(all_sample/val)\n",
    "      tfidf = tf*idf\n",
    "      row_results.append(tfidf)\n",
    "    results.append(row_results)\n",
    "\n",
    "\n",
    "  new_df = pd.DataFrame(results, columns=X.columns).fillna(0)\n",
    "  index_df = pd.DataFrame(index_cols, columns=['class'])\n",
    "  df_final = pd.concat([index_df['class'], new_df], axis=1)\n",
    "\n",
    "  df_final.set_index('class').rename(columns= {0: 'class'}).to_csv(os.path.curdir + '/dataset/c/c_dataset_tfidf_'+str(index)+'.csv')"
   ]
  },
  {
   "cell_type": "code",
   "execution_count": 18,
   "metadata": {},
   "outputs": [],
   "source": [
    "df = pd.read_csv(os.path.curdir + '/dataset/c/c_dataset_'+str(4)+'_without_entropy.csv', index_col=\"class\")\n",
    "index_cols = df.index\n",
    "X = df\n",
    "Y = X[X != 0].count()\n",
    "total_each_row = X.sum(axis=1)\n",
    "total_each_col = []\n",
    "\n",
    "total_each_row\n",
    "\n",
    "for i in Y:\n",
    "    total_each_col.append(i)\n",
    "\n",
    "results = []\n",
    "all_sample = 1000\n",
    "for row,total in enumerate(total_each_row):\n",
    "  row_results = []\n",
    "  for col,val in enumerate(total_each_col):\n",
    "    tf = X.values[row][col]/total\n",
    "    idf = np.log(all_sample/val)\n",
    "    tfidf = tf*idf\n",
    "    row_results.append(tfidf)\n",
    "  results.append(row_results)\n",
    "\n",
    "\n",
    "new_df = pd.DataFrame(results, columns=X.columns).fillna(0)\n",
    "index_df = pd.DataFrame(index_cols, columns=['class'])\n",
    "df_final = pd.concat([index_df['class'], new_df], axis=1)\n",
    "\n",
    "df_final.set_index('class').rename(columns= {0: 'class'}).to_csv(os.path.curdir + '/dataset/c/c_dataset_tfidf_'+str(4)+'.csv')\n",
    "\n"
   ]
  },
  {
   "cell_type": "code",
   "execution_count": null,
   "metadata": {},
   "outputs": [],
   "source": []
  }
 ],
 "metadata": {
  "kernelspec": {
   "display_name": ".venv",
   "language": "python",
   "name": "python3"
  },
  "language_info": {
   "codemirror_mode": {
    "name": "ipython",
    "version": 3
   },
   "file_extension": ".py",
   "mimetype": "text/x-python",
   "name": "python",
   "nbconvert_exporter": "python",
   "pygments_lexer": "ipython3",
   "version": "3.11.2"
  },
  "orig_nbformat": 4
 },
 "nbformat": 4,
 "nbformat_minor": 2
}
