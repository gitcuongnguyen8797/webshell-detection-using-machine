{
 "cells": [
  {
   "cell_type": "code",
   "execution_count": 1,
   "metadata": {},
   "outputs": [],
   "source": [
    "import pandas as pd\n",
    "\n",
    "df = pd.read_csv('Qdataset.csv', index_col='class')\n"
   ]
  },
  {
   "cell_type": "code",
   "execution_count": 13,
   "metadata": {},
   "outputs": [],
   "source": [
    "X = df.drop(columns=['STT'])\n",
    "Y = X[X != 0].count()\n",
    "total_each_row = X.sum(axis=1)\n",
    "total_each_col = []\n",
    "\n",
    "for i in Y:\n",
    "    total_each_col.append(i)"
   ]
  },
  {
   "cell_type": "code",
   "execution_count": 14,
   "metadata": {},
   "outputs": [
    {
     "name": "stderr",
     "output_type": "stream",
     "text": [
      "C:\\Users\\cuongwork\\AppData\\Local\\Temp\\ipykernel_21208\\2469819331.py:7: RuntimeWarning: invalid value encountered in scalar divide\n",
      "  tf = X.values[row][col]/total\n"
     ]
    }
   ],
   "source": [
    "import numpy as np\n",
    "results = []\n",
    "all_sample = 8000\n",
    "for row,total in enumerate(total_each_row):\n",
    "  row_results = []\n",
    "  for col,val in enumerate(total_each_col):\n",
    "    tf = X.values[row][col]/total\n",
    "    idf = np.log(all_sample/val)\n",
    "    tfidf = tf*idf\n",
    "    row_results.append(tfidf)\n",
    "  results.append(row_results)\n",
    "\n"
   ]
  },
  {
   "cell_type": "code",
   "execution_count": 15,
   "metadata": {},
   "outputs": [],
   "source": [
    "\n",
    "new_df = pd.DataFrame(results, columns=X.columns).fillna(0)\n",
    "new_df.to_csv('Tfidf.csv')\n"
   ]
  },
  {
   "cell_type": "code",
   "execution_count": 162,
   "metadata": {},
   "outputs": [
    {
     "data": {
      "text/plain": [
       "(8000, 2617)"
      ]
     },
     "execution_count": 162,
     "metadata": {},
     "output_type": "execute_result"
    }
   ],
   "source": [
    "new_df.drop(new_df.std()[(new_df.std() == 0)].index, axis=1)\n",
    "\n",
    "new_df.shape"
   ]
  },
  {
   "cell_type": "code",
   "execution_count": 27,
   "metadata": {},
   "outputs": [],
   "source": [
    "from sklearn.feature_extraction.text import TfidfTransformer\n",
    "\n",
    "df = pd.read_csv('dataset.csv', index_col='class')\n",
    "\n",
    "df = df.drop(columns=['no'])\n",
    "\n",
    "\n",
    "transformer = TfidfTransformer()\n",
    "data = transformer.fit_transform(df)\n",
    "\n",
    "new_df = pd.DataFrame(data.toarray(), columns=df.columns)\n",
    "\n",
    "new_df.to_csv('tfidf2.csv')"
   ]
  }
 ],
 "metadata": {
  "kernelspec": {
   "display_name": ".venv",
   "language": "python",
   "name": "python3"
  },
  "language_info": {
   "codemirror_mode": {
    "name": "ipython",
    "version": 3
   },
   "file_extension": ".py",
   "mimetype": "text/x-python",
   "name": "python",
   "nbconvert_exporter": "python",
   "pygments_lexer": "ipython3",
   "version": "3.11.2"
  },
  "orig_nbformat": 4
 },
 "nbformat": 4,
 "nbformat_minor": 2
}
