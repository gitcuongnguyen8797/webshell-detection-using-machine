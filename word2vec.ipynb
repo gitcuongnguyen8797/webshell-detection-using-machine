{
 "cells": [
  {
   "cell_type": "code",
   "execution_count": 2,
   "metadata": {},
   "outputs": [],
   "source": [
    "import pandas as pd\n",
    "from gensim.models import Word2Vec\n",
    "from gensim.test.utils import common_texts\n",
    "\n",
    "dataset = pd.read_csv('dataset.csv', index_col='class')\n",
    "\n",
    "dataset = dataset.drop(columns=['no'])"
   ]
  },
  {
   "cell_type": "code",
   "execution_count": 39,
   "metadata": {},
   "outputs": [],
   "source": [
    "rows = []\n",
    "\n",
    "\n",
    "for row in range(0, 1000):\n",
    "    tmp = []\n",
    "    for col in dataset:\n",
    "        if dataset.iloc[row][col] != 0:\n",
    "          tmp.append(col)\n",
    "    if (len(tmp) > 0):\n",
    "      rows.append(tmp)\n",
    "\n",
    "\n",
    "word2vec = Word2Vec(sentences=rows, min_count=1, vector_size=100, window=2, workers=4)"
   ]
  },
  {
   "cell_type": "code",
   "execution_count": 41,
   "metadata": {},
   "outputs": [
    {
     "data": {
      "text/plain": [
       "[('filesize', 0.9448548555374146),\n",
       " ('eval', 0.9441052675247192),\n",
       " ('define', 0.9237265586853027),\n",
       " ('dirname', 0.9091540575027466),\n",
       " ('md5', 0.9049079418182373),\n",
       " ('time', 0.9036982655525208),\n",
       " ('fsockopen', 0.8652295470237732),\n",
       " ('mysql_query', 0.8598291873931885),\n",
       " ('fputs', 0.8562371730804443),\n",
       " ('split', 0.8374336361885071)]"
      ]
     },
     "execution_count": 41,
     "metadata": {},
     "output_type": "execute_result"
    }
   ],
   "source": [
    "word2vec.wv.most_similar('base64_encode')"
   ]
  }
 ],
 "metadata": {
  "kernelspec": {
   "display_name": ".venv",
   "language": "python",
   "name": "python3"
  },
  "language_info": {
   "codemirror_mode": {
    "name": "ipython",
    "version": 3
   },
   "file_extension": ".py",
   "mimetype": "text/x-python",
   "name": "python",
   "nbconvert_exporter": "python",
   "pygments_lexer": "ipython3",
   "version": "3.11.2"
  },
  "orig_nbformat": 4
 },
 "nbformat": 4,
 "nbformat_minor": 2
}
