{
 "cells": [
  {
   "cell_type": "code",
   "execution_count": 2,
   "metadata": {},
   "outputs": [],
   "source": [
    "from libs.extract import ExtractFeatures\n",
    "import os\n",
    "import random\n",
    "import pandas as pd\n",
    "import matplotlib.pyplot as plt\n",
    "import seaborn as sns\n",
    "\n",
    "webshell_data = []\n",
    "benign_data = []\n",
    "\n",
    "webshells = os.listdir(os.path.curdir + '/data/webshells')\n",
    "# random.shuffle(webshells)\n",
    "\n",
    "benigns = os.listdir(os.path.curdir + '/data/benigns')\n",
    "# random.shuffle(benigns)\n",
    "\n",
    "webshellsLongest = []\n",
    "benignsLongest = []\n",
    "webshellsEntropy = []\n",
    "benignsEntropy = []\n",
    "\n",
    "for file in webshells:\n",
    "    extractor = ExtractFeatures('/data/webshells/'+file, 'dataset.csv', file)\n",
    "    extractor.pre_process('/php/webshells/'+file)\n",
    "\n",
    "for file in benigns:\n",
    "    extractor = ExtractFeatures('/data/benigns/'+file, 'dataset.csv', file)\n",
    "    extractor.pre_process('/php/benigns/'+file)"
   ]
  },
  {
   "cell_type": "code",
   "execution_count": null,
   "metadata": {},
   "outputs": [],
   "source": []
  }
 ],
 "metadata": {
  "kernelspec": {
   "display_name": ".venv",
   "language": "python",
   "name": "python3"
  },
  "language_info": {
   "codemirror_mode": {
    "name": "ipython",
    "version": 3
   },
   "file_extension": ".py",
   "mimetype": "text/x-python",
   "name": "python",
   "nbconvert_exporter": "python",
   "pygments_lexer": "ipython3",
   "version": "3.11.2"
  },
  "orig_nbformat": 4
 },
 "nbformat": 4,
 "nbformat_minor": 2
}
