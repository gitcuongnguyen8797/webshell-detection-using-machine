{
 "cells": [
  {
   "cell_type": "code",
   "execution_count": null,
   "metadata": {},
   "outputs": [],
   "source": [
    "import pandas as pd\n",
    "\n",
    "df = pd.read_csv('./dataset/c/dataset_2.csv', index_col='class')\n",
    "\n",
    "defined_danger_functions = ['exec', 'shell_exec', 'passthru', 'system', 'show_source', 'proc_open', 'pcntl_exec', 'eval', 'assert']\n",
    "\n",
    "df = df[defined_danger_functions]"
   ]
  },
  {
   "cell_type": "code",
   "execution_count": null,
   "metadata": {},
   "outputs": [],
   "source": [
    "import matplotlib.pyplot as plt\n",
    "\n",
    "test = df.groupby(['class'])\n",
    "\n",
    "df_2 = test.sum()\n",
    "\n",
    "X = [col for col in df_2.columns]\n",
    "Y = df_2.loc['benign'].values\n",
    "x_pos = [i for i in range(0, len(Y))]\n",
    "\n",
    "plt.figure(figsize=[10,5])\n",
    "plt.bar(x_pos,Y)\n",
    "plt.xticks(x_pos, X)\n",
    "plt.show()"
   ]
  },
  {
   "cell_type": "code",
   "execution_count": 1,
   "metadata": {},
   "outputs": [
    {
     "data": {
      "text/plain": [
       "(886, 4695)"
      ]
     },
     "execution_count": 1,
     "metadata": {},
     "output_type": "execute_result"
    }
   ],
   "source": [
    "import pandas as pd\n",
    "\n",
    "dataset = pd.read_csv('./asp_dataset.csv', index_col='class')\n",
    "dataset.shape"
   ]
  }
 ],
 "metadata": {
  "kernelspec": {
   "display_name": ".venv",
   "language": "python",
   "name": "python3"
  },
  "language_info": {
   "codemirror_mode": {
    "name": "ipython",
    "version": 3
   },
   "file_extension": ".py",
   "mimetype": "text/x-python",
   "name": "python",
   "nbconvert_exporter": "python",
   "pygments_lexer": "ipython3",
   "version": "3.11.2"
  },
  "orig_nbformat": 4
 },
 "nbformat": 4,
 "nbformat_minor": 2
}
