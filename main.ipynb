{
 "cells": [
  {
   "cell_type": "code",
   "execution_count": 31,
   "metadata": {},
   "outputs": [
    {
     "name": "stderr",
     "output_type": "stream",
     "text": [
      "/var/folders/bf/wc8p6wpj2kb6vxn6p5q7rkr00000gn/T/ipykernel_20775/956199818.py:33: PerformanceWarning: DataFrame is highly fragmented.  This is usually the result of calling `frame.insert` many times, which has poor performance.  Consider joining all columns at once using pd.concat(axis=1) instead. To get a de-fragmented frame, use `newframe = frame.copy()`\n",
      "  dataset.insert(0, 'class', col)\n"
     ]
    }
   ],
   "source": [
    "from libs.extract import ExtractFeatures\n",
    "import os\n",
    "import random\n",
    "import pandas as pd\n",
    "\n",
    "webshell_data = []\n",
    "benign_data = []\n",
    "\n",
    "webshells = os.listdir(os.path.curdir + '/data/webshells')\n",
    "random.shuffle(webshells)\n",
    "\n",
    "benigns = os.listdir(os.path.curdir + '/data/benigns')\n",
    "random.shuffle(benigns)\n",
    "\n",
    "for file in webshells:\n",
    "    extractor = ExtractFeatures('/data/webshells/'+file, 'dataset.csv')\n",
    "    result = extractor.extract_function_names()\n",
    "    result['class'] = 'malware'\n",
    "    webshell_data.append(result)\n",
    "  \n",
    "for file in benigns:\n",
    "    extractor = ExtractFeatures('/data/benigns/'+file, 'dataset.csv')\n",
    "    result = extractor.extract_function_names()\n",
    "    result['class'] = 'benign'\n",
    "    benign_data.append(result)\n",
    "\n",
    "df_webshell = pd.DataFrame(webshell_data).fillna(0)\n",
    "df_benigns = pd.DataFrame(benign_data).fillna(0)\n",
    "\n",
    "dataset = pd.concat([df_webshell, df_benigns]).fillna(0)\n",
    "\n",
    "col = dataset.pop('class')\n",
    "dataset.insert(0, 'class', col)\n",
    "dataset.sample(frac=1).reset_index(drop=True).to_csv('dataset.csv')\n",
    "\n"
   ]
  }
 ],
 "metadata": {
  "kernelspec": {
   "display_name": ".venv",
   "language": "python",
   "name": "python3"
  },
  "language_info": {
   "codemirror_mode": {
    "name": "ipython",
    "version": 3
   },
   "file_extension": ".py",
   "mimetype": "text/x-python",
   "name": "python",
   "nbconvert_exporter": "python",
   "pygments_lexer": "ipython3",
   "version": "3.9.6"
  },
  "orig_nbformat": 4
 },
 "nbformat": 4,
 "nbformat_minor": 2
}
