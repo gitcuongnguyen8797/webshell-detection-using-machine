{
 "cells": [
  {
   "attachments": {},
   "cell_type": "markdown",
   "metadata": {},
   "source": [
    "# Test Word2Vec train model"
   ]
  },
  {
   "cell_type": "code",
   "execution_count": 22,
   "metadata": {},
   "outputs": [
    {
     "name": "stdout",
     "output_type": "stream",
     "text": [
      "[('UTC', 0.9757677912712097), ('\"\\'back\\'', 0.9716156721115112), ('2016', 0.9666039347648621), (\"'Checksum:\", 0.9660899043083191), (\"'\\\\t\\\\t\\\\t\\\\t\\\\t\\\\t\\\\t\\\\t\\\\t\\\\t\\\\t\\\\t\\\\t<br>\\\\r\\\\n'\", 0.9653735160827637), (\"\\\\xb2\\\\xfcEi?~\\\\xde`\\\\xb8\\\\xdb\\\\xfb\\\\xdf\\\\x99\\\\xf1\\\\x8c\\\\xfas\\\\xf9\\\\xd5+\\\\rR\\\\xc7O\\\\xb3\\\\xf1=\\\\xae\\\\xb1\\\\x01?f\\\\xbd\\\\x845\\\\xc5\\\\xbd\\\\xc9\\\\x8d\\\\'l\\\\xb6\\\\xdf??\\\\x18\\\\xfb\\\\xe7\\\\x1d\\\\xab\\\\xd4n?\\\\xf8Z\\\\xfa\\\\xf2k\\\\xbb\\\\x9d%$\\\\x9eg2H\\\\xe6W\\\\x1b\\\\x98\\\\x9c\\\\x93\\\\xc3U\\\\x88\\\\xbc\\\\x19\\\\xe1\\\\xd84\\\\xb9\\\\xb4\\\\xd8\\\\xf4\\\\x9bqi3\\\\x06?$?\\\\x0e\\\\xe2s\\\\x91\\\\x93\\\\x8ex\\\\xcds\\\\xfd^}\\\\xfb\\\\xfe>G\\\\xb0\\\\xf3|+Z\\\\xc5\\\\xeb\\\\xcb\\\\xb2I\\\\xfb\\\\xb6\\\\xfbI\\\\xdd\\\\xed\\\\xa1\\\\xe6v\\\\xf6\\\\xf7:\\\\'\\\\x8c\\\\xf4d\\\\x83Nm*;?r\\\\xc6\\\\x9a\\\\x97\\\\xda\\\\x96e\\\\xdb\\\\xdf?\\\\xff\", 0.9646292328834534), ('\\\\xf5\\\\xaf\\\\x8e\\\\x9d\\\\x07)6?', 0.9643748998641968), (\"'\\\\t\\\\t\\\\t\\\\t\\\\t\\\\t\\\\t\\\\t\\\\t\\\\t\\\\t\\\\t</td>\\\\r\\\\n'\", 0.9641411304473877), ('\\\\xb4P?g}\\\\xd8\\\\xeas??w\\\\x0e\\\\xa5\\\\xf0\\\\xd3K\\\\xd2u8\\\\xac~\\\\xc9\\\\xa8\\\\xcd}r?J\\\\xdb\\\\x96\\\\xe2\\\\xddH(?A\\\\x18\\\\xe8z\\\\x8a\\\\xf4?\\\\xe1\\\\x8f\\\\x83Dr1?~q?\\\\x91\\\\xc6>\\\\x85\\\\x88\\\\xac\\\\xcb\\\\x0f\\\\x87\\\\xde\\\\x16\\\\xb7\\\\xf1\\\\xb8D\\\\xd2T?dDy\\\\xa4u\\\\x04\\\\x0c\\\\x8f\\\\x94?\\\\x9e\\\\xc6\\\\xbe\\\\xa2?\\\\x8a\\\\x94\\\\x94\\\\x9c\\\\xa4\\\\xb7i\\\\xad\\\\xec\\\\xad\\\\xfc\\\\xcf\\\\xd5?\\\\xb1\\\\xe08?\\\\x1c\\\\xc0\\\\xda\\\\x97\\\\x8e\\\\xb4E\\\\x1ad7\\\\xa6K\\\\x07o\\\\xb2\\\\xdc\\\\xcd\\\\xe5/RyoQX\\\\xda\\\\xae\\\\x90\\\\xf6\\\\x13?\\\\xb7\\\\x86\\\\xb4\\\\xed4\\\\x1dJ\\\\x05\\\\xf3\\\\xad\\\\xafL\\\\xac~o\\\\xbb\\\\xb7=8\\\\xeb\\\\xed^\\\\xaf\\\\xabxcE?I?>+?]\\\\x8a\\\\xcf?s?S\\\\x83\\\\xc0~\\\\x17\\\\xb6\\\\xb8\\\\x8ex\\\\xb4ku?\\\\x0e\\\\x8d\\\\xc9?', 0.9639537334442139), ('v?\\\\x19UwP\\\\t\\\\x07?\\\\x8f\\\\xd75\\\\xf4\\\\x8b\\\\x0e\\\\xabEG\\\\xd8\\\\xa4\\\\xa4\\\\x94T\\\\xb4\\\\xd1\\\\xab\\\\xbb\\\\xdbu~\\\\x9d\\\\xf4\\\\xeea{u>\\\\x83\\\\xa2\\\\xbc\\\\xf3\\\\xc2\\\\x9e.\\\\xd5\\\\xe1\\\\xf0f?\\\\xab\\\\xa3\\\\xea\\\\xda\\\\x85\\\\xdc\\\\xd0\\\\xb3\\\\x19\\\\xe0\\\\x85N??d\\\\x8f\\\\x98\\\\xa8S\\\\xef\\\\x9c\\\\xf7\\\\xab\\\\xfao\\\\xc4Xua\\\\xba\\\\xcb\\\\xc3\\\\xfa\\\\xd4\\\\xb1\\\\x89|\\\\xa6\\\\x91aB\\\\xaa\\\\xdcd\\\\x13\\\\xbb\\\\xb6k\\\\xe4\\\\xab\\\\xf2\\\\xd1?Rz\\\\xa6\\\\xd7\\\\xdcz\\\\x14\\\\xf0u\\\\xeaS\\\\xf6\\\\x91\\\\x8e\\\\x9e\\\\xab\\\\xfc\\\\xce\\\\xd2\\\\x8a\\\\xe1?\\\\x89PZ\\\\xcfwkk\\\\xa3\\\\xde\\\\xcfs\\\\r\\\\xc3\\\\xda\\\\xa1fD\\\\x8d\\\\xe4^?\\\\xb3\\\\xef\\\\xd2\\\\xad?;\\\\x8bZ?\\\\xd2\\\\xdfK\\\\xbb\\\\xb6?\\\\xef\\\\x97qB\\\\x88v\\\\xe7\\\\xa8l\\\\x91\\\\xc7\\\\x1cV*?\\\\xb5\\\\xcb\\\\x96]\\\\x89\\\\x8d?h\\\\xe3\\\\xa6\\\\xfb\\\\xad\\\\xbe\\\\xf3\\\\x84\\\\xd3\\\\xe3\\\\xd5\\\\xe4\\\\xf1\\\\x8f\\\\x8a\\\\xff', 0.9636101722717285)]\n"
     ]
    }
   ],
   "source": [
    "from gensim.models import Word2Vec\n",
    "import os\n",
    "\n",
    "model = Word2Vec.load(os.curdir + '/word_train.model')\n",
    "print(model.wv.most_similar('exec'))\n"
   ]
  }
 ],
 "metadata": {
  "kernelspec": {
   "display_name": "Python 3",
   "language": "python",
   "name": "python3"
  },
  "language_info": {
   "codemirror_mode": {
    "name": "ipython",
    "version": 3
   },
   "file_extension": ".py",
   "mimetype": "text/x-python",
   "name": "python",
   "nbconvert_exporter": "python",
   "pygments_lexer": "ipython3",
   "version": "3.11.2"
  },
  "orig_nbformat": 4
 },
 "nbformat": 4,
 "nbformat_minor": 2
}
